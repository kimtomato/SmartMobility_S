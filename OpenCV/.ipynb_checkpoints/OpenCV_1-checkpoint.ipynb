{
 "cells": [
  {
   "cell_type": "markdown",
   "metadata": {},
   "source": [
    "# 젯슨 나노에서 OpenCV 입문하기 \n",
    "## 이미지 보여주기 "
   ]
  },
  {
   "cell_type": "code",
   "execution_count": 7,
   "metadata": {},
   "outputs": [
    {
     "data": {
      "text/plain": [
       "'4.1.1'"
      ]
     },
     "execution_count": 7,
     "metadata": {},
     "output_type": "execute_result"
    }
   ],
   "source": [
    "import sys\n",
    "import cv2 as cv\n",
    "\n",
    "cv.__version__\n"
   ]
  },
  {
   "cell_type": "code",
   "execution_count": 13,
   "metadata": {},
   "outputs": [],
   "source": [
    "img = cv.imread(\"starry_night.jpg\")\n",
    "if img is None:\n",
    "    sys.exit(\"Could not read the image\")\n",
    "\n",
    "cv.imshow(\"Display window\", img)\n",
    "k = cv.waitKey(0)\n",
    "\n",
    "if k ==ord(\"s\"):\n",
    "    I = cv.cvColor(img, cv.COLOR_BGR2GRAY)\n",
    "    cv.imwrite(\"starry_night.png\",I)\n",
    "\n",
    "cv.destroyAllWindows()"
   ]
  },
  {
   "cell_type": "markdown",
   "metadata": {},
   "source": [
    "### numpy 알아보기"
   ]
  },
  {
   "cell_type": "code",
   "execution_count": 21,
   "metadata": {},
   "outputs": [
    {
     "data": {
      "text/plain": [
       "array([[1, 1],\n",
       "       [1, 1],\n",
       "       [1, 1],\n",
       "       [1, 1],\n",
       "       [1, 1]], dtype=uint8)"
      ]
     },
     "execution_count": 21,
     "metadata": {},
     "output_type": "execute_result"
    }
   ],
   "source": [
    "import numpy as np\n",
    "\n",
    "U = np.ones((5,2), np.uint8)   #5x5를 1로 채워줌 , datatype 명시 가능\n",
    "U"
   ]
  },
  {
   "cell_type": "code",
   "execution_count": 22,
   "metadata": {},
   "outputs": [
    {
     "data": {
      "text/plain": [
       "numpy.uint8"
      ]
     },
     "execution_count": 22,
     "metadata": {},
     "output_type": "execute_result"
    }
   ],
   "source": [
    "type(U[0,0])   "
   ]
  },
  {
   "cell_type": "code",
   "execution_count": 24,
   "metadata": {},
   "outputs": [
    {
     "data": {
      "text/plain": [
       "array([[0, 0, 0, 0],\n",
       "       [0, 0, 0, 0],\n",
       "       [0, 0, 0, 0]], dtype=uint8)"
      ]
     },
     "execution_count": 24,
     "metadata": {},
     "output_type": "execute_result"
    }
   ],
   "source": [
    "Z = np.zeros((3,4),np.uint8)\n",
    "Z"
   ]
  },
  {
   "cell_type": "markdown",
   "metadata": {},
   "source": [
    "## 흑백이미지 만들기"
   ]
  },
  {
   "cell_type": "code",
   "execution_count": 41,
   "metadata": {},
   "outputs": [],
   "source": [
    "img = np.ones((200,256), np.uint8)\n",
    "for i in range(256):\n",
    "    img[:,i]=i\n",
    "cv.imshow(\"Draws\", img)\n",
    "k = cv.waitKey(2000)    # 입력키를 기다리는 함수, 내부에 int형태만 사용 가능 , 값이 0이거나 비워두면 키입력까지 계속 기다림\n",
    "                    # 단위는 ms  \n",
    "                   \n"
   ]
  },
  {
   "cell_type": "markdown",
   "metadata": {},
   "source": [
    "## 다양한 흑백 이미지 만들기"
   ]
  },
  {
   "cell_type": "code",
   "execution_count": 42,
   "metadata": {},
   "outputs": [],
   "source": [
    "img = np.zeros((200,256), np.uint8)  #행렬을 0으로 초기화 \n",
    "for i in range(200):\n",
    "    img[i,:] = i\n",
    "cv.imshow(\"test1\", img)\n",
    "k = cv.waitKey() "
   ]
  },
  {
   "cell_type": "markdown",
   "metadata": {},
   "source": [
    "## 흑백 네 조각 이미지"
   ]
  },
  {
   "cell_type": "code",
   "execution_count": 50,
   "metadata": {},
   "outputs": [],
   "source": [
    "img = np.zeros((200,200), np.uint8)\n",
    "img[:99,:99] = 255\n",
    "img[:99,100:] = 128\n",
    "img[100:,:99] = 64\n",
    "# img[100:,100:]  행렬 자체를 0으로 초기화했음 \n",
    "cv.imshow(\"흑백으로 4등분\", img)\n",
    "k = cv.waitKey(6000)\n",
    "cv.destroyAllWindows()\n"
   ]
  },
  {
   "cell_type": "markdown",
   "metadata": {},
   "source": [
    "## 랜덤 밝기로 흑백 점 뿌리기 "
   ]
  },
  {
   "cell_type": "code",
   "execution_count": 65,
   "metadata": {},
   "outputs": [],
   "source": [
    "img = np.random.randint(256, size=(200,255), dtype = np.uint8)\n",
    "G = np.pad(img, (30,30),'constant',constant_values=(255)) #Frame 설정하기 , 기본값이 0으로 설정 -> 검정색\n",
    "cv.imshow(\"흑백 점 뿌리기 예제\", G)\n",
    "cv.waitKey(3000)\n",
    "cv.destroyAllWindows()"
   ]
  },
  {
   "cell_type": "markdown",
   "metadata": {},
   "source": [
    "## 랜덤 흑백 타일 만들기 "
   ]
  },
  {
   "cell_type": "markdown",
   "metadata": {},
   "source": [
    "np.kron(A,B)를 알아보자 \n",
    "두 배열의 크로네커곱을 구할 수 있게해줌"
   ]
  },
  {
   "cell_type": "code",
   "execution_count": 16,
   "metadata": {},
   "outputs": [],
   "source": [
    "import numpy as np\n",
    "import cv2 as cv\n",
    "\n",
    "img = np.random.randint(32,200,size = (4,4),dtype=np.uint8) # 범위를 32-200으로 제한함\n",
    "tile = np.ones((100,100), dtype=np.uint8)\n",
    "X = np.kron(img,tile)\n",
    "cv.imshow(\"random tile\", X)\n",
    "cv.waitKey(7000)\n",
    "cv.destroyAllWindows()"
   ]
  },
  {
   "cell_type": "markdown",
   "metadata": {},
   "source": [
    "## 동그라미 네모 겹쳐 그리기"
   ]
  },
  {
   "cell_type": "code",
   "execution_count": null,
   "metadata": {},
   "outputs": [],
   "source": [
    "img = np.random.randint(32,200,size = (4,4),dtype=np.uint8) # 범위를 32-200으로 제한함\n",
    "tile = np.ones((100,100), dtype=np.uint8)\n",
    "G = np.kron(img,tile)\n",
    "cv.rectangle(G, (100,100),(300,300),255,3)\n",
    "cv.circle(G,(200,200),100,0,2)\n",
    "font=cv.FONT_HERSHEY_SIMPLEX\n",
    "cv.putText(G, \"kimtomato\", (50,370), font,2,255,2,cv.LINE_AA)\n",
    "cv.imshow(\"circle in squre\", X)\n",
    "cv.waitKey(100000)\n",
    "cv.destroyAllWindows()"
   ]
  },
  {
   "cell_type": "code",
   "execution_count": null,
   "metadata": {},
   "outputs": [],
   "source": []
  }
 ],
 "metadata": {
  "kernelspec": {
   "display_name": "Python 3",
   "language": "python",
   "name": "python3"
  },
  "language_info": {
   "codemirror_mode": {
    "name": "ipython",
    "version": 3
   },
   "file_extension": ".py",
   "mimetype": "text/x-python",
   "name": "python",
   "nbconvert_exporter": "python",
   "pygments_lexer": "ipython3",
   "version": "3.6.9"
  }
 },
 "nbformat": 4,
 "nbformat_minor": 4
}
