{
 "cells": [
  {
   "cell_type": "markdown",
   "id": "34fc8785-416a-49f6-bf36-e8b6a9be74db",
   "metadata": {},
   "source": [
    "# kimtomato "
   ]
  },
  {
   "cell_type": "code",
   "execution_count": null,
   "id": "f24b4087-2893-4049-adaf-20da2b04873e",
   "metadata": {},
   "outputs": [],
   "source": []
  }
 ],
 "metadata": {
  "kernelspec": {
   "display_name": "Python 3 (ipykernel)",
   "language": "python",
   "name": "python3"
  },
  "language_info": {
   "codemirror_mode": {
    "name": "ipython",
    "version": 3
   },
   "file_extension": ".py",
   "mimetype": "text/x-python",
   "name": "python",
   "nbconvert_exporter": "python",
   "pygments_lexer": "ipython3",
   "version": "3.8.6"
  }
 },
 "nbformat": 4,
 "nbformat_minor": 5
}
