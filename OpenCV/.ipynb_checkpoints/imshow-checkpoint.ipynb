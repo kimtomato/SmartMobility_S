{
 "cells": [
  {
   "cell_type": "code",
   "execution_count": null,
   "id": "e91e15d9-68fe-4646-b44a-e60c00bb5b86",
   "metadata": {},
   "outputs": [],
   "source": [
    "import sys \n",
    "import cv2 as cv\n",
    "\n",
    "n=len(sys.argv)\n",
    "if n < 2:\n",
    "    sys.exit(f\"usage: {sys.argv[0]} file\")\n",
    "\n",
    "img_file = sys.argv[1]\n",
    "img = cv.imread(img_file)\n",
    "if img is None:\n",
    "    sys.exit(f\"{img_file} is not an image file!\")\n",
    "\n",
    "cv.imshow(img_file,img)\n",
    "print(\"press any button\")\n",
    "cv.waitKey(0)"
   ]
  },
  {
   "cell_type": "code",
   "execution_count": null,
   "id": "e7cad73e-b1fa-4217-88a1-766b23f251d1",
   "metadata": {},
   "outputs": [],
   "source": []
  }
 ],
 "metadata": {
  "kernelspec": {
   "display_name": "Python 3 (ipykernel)",
   "language": "python",
   "name": "python3"
  },
  "language_info": {
   "codemirror_mode": {
    "name": "ipython",
    "version": 3
   },
   "file_extension": ".py",
   "mimetype": "text/x-python",
   "name": "python",
   "nbconvert_exporter": "python",
   "pygments_lexer": "ipython3",
   "version": "3.8.6"
  }
 },
 "nbformat": 4,
 "nbformat_minor": 5
}
