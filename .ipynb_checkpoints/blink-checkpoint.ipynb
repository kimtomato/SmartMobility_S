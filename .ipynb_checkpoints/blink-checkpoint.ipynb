{
 "cells": [
  {
   "cell_type": "markdown",
   "metadata": {},
   "source": [
    "# 젯슨 나노 인터페이싱 "
   ]
  },
  {
   "cell_type": "markdown",
   "metadata": {},
   "source": [
    "## LED blink"
   ]
  },
  {
   "cell_type": "code",
   "execution_count": null,
   "metadata": {},
   "outputs": [
    {
     "name": "stderr",
     "output_type": "stream",
     "text": [
      "/usr/local/lib/python3.6/dist-packages/Jetson/GPIO/gpio.py:386: RuntimeWarning: This channel is already in use, continuing anyway. Use GPIO.setwarnings(False) to disable warnings\n",
      "  RuntimeWarning)\n"
     ]
    },
    {
     "name": "stdout",
     "output_type": "stream",
     "text": [
      "Start blink demo now, press CTRL + C to exit\n",
      "Outputting 1 to pin 7\n",
      "Outputting 0 to pin 7\n",
      "Outputting 1 to pin 7\n",
      "Outputting 0 to pin 7\n",
      "Outputting 1 to pin 7\n",
      "Outputting 0 to pin 7\n",
      "Outputting 1 to pin 7\n",
      "Outputting 0 to pin 7\n",
      "Outputting 1 to pin 7\n",
      "Outputting 0 to pin 7\n",
      "Outputting 1 to pin 7\n",
      "Outputting 0 to pin 7\n",
      "Outputting 1 to pin 7\n",
      "Outputting 0 to pin 7\n",
      "Outputting 1 to pin 7\n",
      "Outputting 0 to pin 7\n",
      "Outputting 1 to pin 7\n",
      "Outputting 0 to pin 7\n",
      "Outputting 1 to pin 7\n",
      "Outputting 0 to pin 7\n",
      "Outputting 1 to pin 7\n",
      "Outputting 0 to pin 7\n",
      "Outputting 1 to pin 7\n",
      "Outputting 0 to pin 7\n",
      "Outputting 1 to pin 7\n",
      "Outputting 0 to pin 7\n",
      "Outputting 1 to pin 7\n",
      "Outputting 0 to pin 7\n",
      "Outputting 1 to pin 7\n",
      "Outputting 0 to pin 7\n",
      "Outputting 1 to pin 7\n",
      "Outputting 0 to pin 7\n",
      "Outputting 1 to pin 7\n",
      "Outputting 0 to pin 7\n",
      "Outputting 1 to pin 7\n",
      "Outputting 0 to pin 7\n",
      "Outputting 1 to pin 7\n",
      "Outputting 0 to pin 7\n",
      "Outputting 1 to pin 7\n",
      "Outputting 0 to pin 7\n"
     ]
    }
   ],
   "source": [
    "import Jetson.GPIO as GPIO\n",
    "import time\n",
    "\n",
    "led = 7\n",
    "\n",
    "GPIO.setmode(GPIO.BOARD)\n",
    "GPIO.setup(led, GPIO.OUT, initial=GPIO.HIGH)\n",
    "\n",
    "print(\"Start blink demo now, press CTRL + C to exit\")\n",
    "value = GPIO.HIGH\n",
    "\n",
    "try:\n",
    "    while True:\n",
    "        time.sleep(1)\n",
    "        print(f\"Outputting {value} to pin {led}\")\n",
    "        GPIO.output(led, value)\n",
    "        value ^= GPIO.HIGH\n",
    "finally:\n",
    "    GPIO.cleanup()"
   ]
  },
  {
   "cell_type": "code",
   "execution_count": null,
   "metadata": {},
   "outputs": [],
   "source": []
  }
 ],
 "metadata": {
  "kernelspec": {
   "display_name": "Python 3",
   "language": "python",
   "name": "python3"
  },
  "language_info": {
   "codemirror_mode": {
    "name": "ipython",
    "version": 3
   },
   "file_extension": ".py",
   "mimetype": "text/x-python",
   "name": "python",
   "nbconvert_exporter": "python",
   "pygments_lexer": "ipython3",
   "version": "3.6.9"
  }
 },
 "nbformat": 4,
 "nbformat_minor": 4
}
