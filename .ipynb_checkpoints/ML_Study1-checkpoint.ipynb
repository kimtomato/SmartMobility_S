{
 "cells": [
  {
   "cell_type": "markdown",
   "id": "7e70c4a9-7465-47df-9188-d6067c890e8b",
   "metadata": {},
   "source": [
    "# git jupyter lab 연동"
   ]
  },
  {
   "cell_type": "code",
   "execution_count": null,
   "id": "b967bc23-13f5-4af7-a687-8c048a3f25ac",
   "metadata": {},
   "outputs": [],
   "source": []
  }
 ],
 "metadata": {
  "kernelspec": {
   "display_name": "",
   "name": ""
  },
  "language_info": {
   "name": ""
  }
 },
 "nbformat": 4,
 "nbformat_minor": 5
}
